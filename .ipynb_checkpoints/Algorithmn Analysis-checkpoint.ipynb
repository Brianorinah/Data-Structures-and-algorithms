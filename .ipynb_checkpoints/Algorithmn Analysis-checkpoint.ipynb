{
 "cells": [
  {
   "cell_type": "code",
   "execution_count": 1,
   "metadata": {},
   "outputs": [],
   "source": [
    "import time"
   ]
  },
  {
   "cell_type": "code",
   "execution_count": 2,
   "metadata": {},
   "outputs": [],
   "source": [
    "def sum_of_n_2(n):\n",
    "    start=time.time()\n",
    "    the_sum=0\n",
    "    for i in range(1,n+1):\n",
    "        the_sum = the_sum + 1\n",
    "    end = time.time()\n",
    "    \n",
    "    return the_sum,end-start"
   ]
  },
  {
   "cell_type": "code",
   "execution_count": 3,
   "metadata": {},
   "outputs": [
    {
     "name": "stdout",
     "output_type": "stream",
     "text": [
      "sum is 10000 required  0.0019982 seconds\n",
      "sum is 10000 required  0.0030022 seconds\n",
      "sum is 10000 required  0.0029991 seconds\n",
      "sum is 10000 required  0.0029969 seconds\n",
      "sum is 10000 required  0.0020025 seconds\n"
     ]
    }
   ],
   "source": [
    "for i in range(5):\n",
    "    print(\"sum is %d required %10.7f seconds\" % sum_of_n_2(10000))"
   ]
  },
  {
   "cell_type": "code",
   "execution_count": 4,
   "metadata": {},
   "outputs": [
    {
     "name": "stdout",
     "output_type": "stream",
     "text": [
      "Sum is 1000000 required  0.1789515 seconds\n",
      "Sum is 1000000 required  0.1658807 seconds\n",
      "Sum is 1000000 required  0.1740062 seconds\n",
      "Sum is 1000000 required  0.1449912 seconds\n",
      "Sum is 1000000 required  0.1455371 seconds\n"
     ]
    }
   ],
   "source": [
    "for i in range(5):\n",
    "    print(\"Sum is %d required %10.7f seconds\" %\n",
    "    sum_of_n_2(1000000))"
   ]
  },
  {
   "cell_type": "code",
   "execution_count": 9,
   "metadata": {},
   "outputs": [
    {
     "name": "stdout",
     "output_type": "stream",
     "text": [
      "(55.0, 0.0)\n"
     ]
    }
   ],
   "source": [
    "def sum_of_n_3(n):\n",
    "    start=time.time()\n",
    "    the_sum=(n * (n + 1)) / 2\n",
    "    end = time.time()\n",
    "    return the_sum,end-start\n",
    "print(sum_of_n_3(10))"
   ]
  },
  {
   "cell_type": "code",
   "execution_count": 11,
   "metadata": {},
   "outputs": [
    {
     "name": "stdout",
     "output_type": "stream",
     "text": [
      "Sum is 50005000 required  0.0000000 seconds\n",
      "Sum is 5000050000 required  0.0000000 seconds\n",
      "Sum is 500000500000 required  0.0000000 seconds\n",
      "Sum is 50000005000000 required  0.0000000 seconds\n"
     ]
    }
   ],
   "source": [
    "ls=[10000,100000,1000000,10000000]\n",
    "for i in ls:\n",
    "    print(\"Sum is %d required %10.7f seconds\" %\n",
    "    sum_of_n_3(i))"
   ]
  },
  {
   "cell_type": "code",
   "execution_count": 13,
   "metadata": {},
   "outputs": [],
   "source": [
    "a = 5\n",
    "b = 6\n",
    "c = 10\n",
    "n=5\n",
    "for i in range(n):\n",
    "    for j in range(n):\n",
    "        x = i * i\n",
    "        y = j * j\n",
    "        z = i * j\n",
    "for k in range(n):\n",
    "    w = a * k + 45\n",
    "    v = b * b\n",
    "d = 33"
   ]
  },
  {
   "cell_type": "code",
   "execution_count": 21,
   "metadata": {},
   "outputs": [],
   "source": [
    "ls=[2,5,8,3,9,11,1,7]\n",
    "w=sorted(ls)\n"
   ]
  },
  {
   "cell_type": "code",
   "execution_count": 22,
   "metadata": {},
   "outputs": [
    {
     "data": {
      "text/plain": [
       "1"
      ]
     },
     "execution_count": 22,
     "metadata": {},
     "output_type": "execute_result"
    }
   ],
   "source": [
    "w[0]"
   ]
  },
  {
   "cell_type": "code",
   "execution_count": 46,
   "metadata": {},
   "outputs": [
    {
     "name": "stdout",
     "output_type": "stream",
     "text": [
      "7\n"
     ]
    }
   ],
   "source": [
    "ls2=[33,34,35,36,77,44,6]\n",
    "print(len(ls2))"
   ]
  },
  {
   "cell_type": "code",
   "execution_count": 47,
   "metadata": {},
   "outputs": [],
   "source": [
    "smallest=ls2[0]\n",
    "for i in range(1,len(ls2)):\n",
    "    if ls2[i]< smallest:\n",
    "        smallest=ls2[i]\n",
    "    "
   ]
  },
  {
   "cell_type": "code",
   "execution_count": 48,
   "metadata": {},
   "outputs": [
    {
     "data": {
      "text/plain": [
       "6"
      ]
     },
     "execution_count": 48,
     "metadata": {},
     "output_type": "execute_result"
    }
   ],
   "source": [
    "smallest"
   ]
  },
  {
   "cell_type": "markdown",
   "metadata": {},
   "source": [
    "# Analogram 1 i.e(python, typhon)"
   ]
  },
  {
   "cell_type": "code",
   "execution_count": null,
   "metadata": {},
   "outputs": [],
   "source": [
    "def analogram_solution_1(s1,s2):\n",
    "    l2=list(s2)\n",
    "    s1_pos=0\n",
    "    still_ok =True\n",
    "    \n",
    "    while s1_pos <len(s1) and still_ok:\n",
    "        s2_pos=0\n",
    "        found= False\n",
    "        while s2_pos <len(l2) and not found:\n",
    "            if s1[s1_pos]== l2[s2_pos]:\n",
    "                found= True\n",
    "        \n",
    "        if found:\n",
    "            l2[s2_pos] =None\n",
    "        else:\n",
    "            still_ok = False\n",
    "        \n",
    "        s1_pos =s1_pos +1\n",
    "        \n",
    "    return still_ok\n",
    "\n",
    "print(analogram_solution_1('abcd','dcba'))                   \n",
    "                \n",
    "                \n",
    "    "
   ]
  },
  {
   "cell_type": "markdown",
   "metadata": {},
   "source": [
    "# Analogram 2(Sort and Compare)"
   ]
  },
  {
   "cell_type": "code",
   "execution_count": null,
   "metadata": {},
   "outputs": [],
   "source": [
    "def analogram_solution2(s1,s2):\n",
    "    ls1=list(s1)\n",
    "    ls2=list(s2)\n",
    "    \n",
    "    ls1.sort()\n",
    "    ls2.sort()\n",
    "    \n",
    "    pos =0\n",
    "    match = True\n",
    "    \n",
    "    while pos < len(ls1) and match:\n",
    "        if ls1[pos] = ls2[pos]:\n",
    "            pos = pos +1\n",
    "        else:\n",
    "            match = False\n",
    "    return match\n",
    "print(analogram_solution2(\"abcde\",\"cdeab\"))\n",
    "        "
   ]
  },
  {
   "cell_type": "code",
   "execution_count": null,
   "metadata": {},
   "outputs": [],
   "source": [
    "ord(\"p\")"
   ]
  },
  {
   "cell_type": "code",
   "execution_count": null,
   "metadata": {},
   "outputs": [],
   "source": [
    "def anagram_solution4(s1, s2):\n",
    "    c1 = [0] * 26\n",
    "    c2 = [0] * 26\n",
    "    \n",
    "    for i in range(len(s1)):\n",
    "        pos = ord(s1[i]) - ord('a')\n",
    "        c1[pos] = c1[pos] + 1\n",
    "        \n",
    "    for i in range(len(s2)):\n",
    "        pos = ord(s2[i]) - ord('a')\n",
    "        c2[pos] = c2[pos] + 1\n",
    "        \n",
    "    j = 0\n",
    "    still_ok = True\n",
    "    \n",
    "    while j < 26 and still_ok:\n",
    "        if c1[j] == c2[j]:\n",
    "        j = j + 1\n",
    "        \n",
    "    else:\n",
    "    still_ok = False\n",
    "    \n",
    "    return still_ok\n",
    "\n",
    "print(anagram_solution4('apple','pleap'))"
   ]
  }
 ],
 "metadata": {
  "kernelspec": {
   "display_name": "Python 3",
   "language": "python",
   "name": "python3"
  },
  "language_info": {
   "codemirror_mode": {
    "name": "ipython",
    "version": 3
   },
   "file_extension": ".py",
   "mimetype": "text/x-python",
   "name": "python",
   "nbconvert_exporter": "python",
   "pygments_lexer": "ipython3",
   "version": "3.7.6"
  }
 },
 "nbformat": 4,
 "nbformat_minor": 4
}
